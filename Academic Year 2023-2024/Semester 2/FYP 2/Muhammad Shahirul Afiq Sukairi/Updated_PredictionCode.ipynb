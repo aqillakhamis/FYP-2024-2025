{
  "nbformat": 4,
  "nbformat_minor": 0,
  "metadata": {
    "colab": {
      "provenance": [],
      "gpuType": "T4"
    },
    "kernelspec": {
      "name": "python3",
      "display_name": "Python 3"
    },
    "language_info": {
      "name": "python"
    },
    "accelerator": "GPU"
  },
  "cells": [
    {
      "cell_type": "code",
      "execution_count": null,
      "metadata": {
        "colab": {
          "base_uri": "https://localhost:8080/"
        },
        "id": "4yjjTW5faYtN",
        "outputId": "e04f6107-ead7-4952-ad46-c5ef05e3b547"
      },
      "outputs": [
        {
          "output_type": "stream",
          "name": "stdout",
          "text": [
            "Mounted at /content/gdrive\n"
          ]
        }
      ],
      "source": [
        "# mount gdrive to access the dataset and weights\n",
        "from google.colab import drive\n",
        "drive.mount('/content/gdrive')"
      ]
    },
    {
      "cell_type": "code",
      "source": [
        "# install and import libraries\n",
        "!pip install ultralytics\n",
        "\n",
        "from ultralytics import YOLO\n",
        "from pathlib import Path\n",
        "import numpy as np\n",
        "from sklearn.metrics import f1_score, accuracy_score\n",
        "from tqdm import tqdm\n",
        "\n",
        "import cv2\n",
        "import glob\n",
        "import os"
      ],
      "metadata": {
        "colab": {
          "base_uri": "https://localhost:8080/"
        },
        "collapsed": true,
        "id": "nKZwbEXSarib",
        "outputId": "da6443ff-1aca-4d3e-ca7d-908f0fc36922"
      },
      "execution_count": null,
      "outputs": [
        {
          "output_type": "stream",
          "name": "stdout",
          "text": [
            "Collecting ultralytics\n",
            "  Downloading ultralytics-8.2.31-py3-none-any.whl (780 kB)\n",
            "\u001b[2K     \u001b[90m━━━━━━━━━━━━━━━━━━━━━━━━━━━━━━━━━━━━━━━━\u001b[0m \u001b[32m780.6/780.6 kB\u001b[0m \u001b[31m11.6 MB/s\u001b[0m eta \u001b[36m0:00:00\u001b[0m\n",
            "\u001b[?25hRequirement already satisfied: matplotlib>=3.3.0 in /usr/local/lib/python3.10/dist-packages (from ultralytics) (3.7.1)\n",
            "Requirement already satisfied: opencv-python>=4.6.0 in /usr/local/lib/python3.10/dist-packages (from ultralytics) (4.8.0.76)\n",
            "Requirement already satisfied: pillow>=7.1.2 in /usr/local/lib/python3.10/dist-packages (from ultralytics) (9.4.0)\n",
            "Requirement already satisfied: pyyaml>=5.3.1 in /usr/local/lib/python3.10/dist-packages (from ultralytics) (6.0.1)\n",
            "Requirement already satisfied: requests>=2.23.0 in /usr/local/lib/python3.10/dist-packages (from ultralytics) (2.31.0)\n",
            "Requirement already satisfied: scipy>=1.4.1 in /usr/local/lib/python3.10/dist-packages (from ultralytics) (1.11.4)\n",
            "Requirement already satisfied: torch>=1.8.0 in /usr/local/lib/python3.10/dist-packages (from ultralytics) (2.3.0+cu121)\n",
            "Requirement already satisfied: torchvision>=0.9.0 in /usr/local/lib/python3.10/dist-packages (from ultralytics) (0.18.0+cu121)\n",
            "Requirement already satisfied: tqdm>=4.64.0 in /usr/local/lib/python3.10/dist-packages (from ultralytics) (4.66.4)\n",
            "Requirement already satisfied: psutil in /usr/local/lib/python3.10/dist-packages (from ultralytics) (5.9.5)\n",
            "Requirement already satisfied: py-cpuinfo in /usr/local/lib/python3.10/dist-packages (from ultralytics) (9.0.0)\n",
            "Requirement already satisfied: pandas>=1.1.4 in /usr/local/lib/python3.10/dist-packages (from ultralytics) (2.0.3)\n",
            "Requirement already satisfied: seaborn>=0.11.0 in /usr/local/lib/python3.10/dist-packages (from ultralytics) (0.13.1)\n",
            "Collecting ultralytics-thop>=0.2.5 (from ultralytics)\n",
            "  Downloading ultralytics_thop-0.2.8-py3-none-any.whl (25 kB)\n",
            "Requirement already satisfied: contourpy>=1.0.1 in /usr/local/lib/python3.10/dist-packages (from matplotlib>=3.3.0->ultralytics) (1.2.1)\n",
            "Requirement already satisfied: cycler>=0.10 in /usr/local/lib/python3.10/dist-packages (from matplotlib>=3.3.0->ultralytics) (0.12.1)\n",
            "Requirement already satisfied: fonttools>=4.22.0 in /usr/local/lib/python3.10/dist-packages (from matplotlib>=3.3.0->ultralytics) (4.53.0)\n",
            "Requirement already satisfied: kiwisolver>=1.0.1 in /usr/local/lib/python3.10/dist-packages (from matplotlib>=3.3.0->ultralytics) (1.4.5)\n",
            "Requirement already satisfied: numpy>=1.20 in /usr/local/lib/python3.10/dist-packages (from matplotlib>=3.3.0->ultralytics) (1.25.2)\n",
            "Requirement already satisfied: packaging>=20.0 in /usr/local/lib/python3.10/dist-packages (from matplotlib>=3.3.0->ultralytics) (24.0)\n",
            "Requirement already satisfied: pyparsing>=2.3.1 in /usr/local/lib/python3.10/dist-packages (from matplotlib>=3.3.0->ultralytics) (3.1.2)\n",
            "Requirement already satisfied: python-dateutil>=2.7 in /usr/local/lib/python3.10/dist-packages (from matplotlib>=3.3.0->ultralytics) (2.8.2)\n",
            "Requirement already satisfied: pytz>=2020.1 in /usr/local/lib/python3.10/dist-packages (from pandas>=1.1.4->ultralytics) (2023.4)\n",
            "Requirement already satisfied: tzdata>=2022.1 in /usr/local/lib/python3.10/dist-packages (from pandas>=1.1.4->ultralytics) (2024.1)\n",
            "Requirement already satisfied: charset-normalizer<4,>=2 in /usr/local/lib/python3.10/dist-packages (from requests>=2.23.0->ultralytics) (3.3.2)\n",
            "Requirement already satisfied: idna<4,>=2.5 in /usr/local/lib/python3.10/dist-packages (from requests>=2.23.0->ultralytics) (3.7)\n",
            "Requirement already satisfied: urllib3<3,>=1.21.1 in /usr/local/lib/python3.10/dist-packages (from requests>=2.23.0->ultralytics) (2.0.7)\n",
            "Requirement already satisfied: certifi>=2017.4.17 in /usr/local/lib/python3.10/dist-packages (from requests>=2.23.0->ultralytics) (2024.6.2)\n",
            "Requirement already satisfied: filelock in /usr/local/lib/python3.10/dist-packages (from torch>=1.8.0->ultralytics) (3.14.0)\n",
            "Requirement already satisfied: typing-extensions>=4.8.0 in /usr/local/lib/python3.10/dist-packages (from torch>=1.8.0->ultralytics) (4.12.1)\n",
            "Requirement already satisfied: sympy in /usr/local/lib/python3.10/dist-packages (from torch>=1.8.0->ultralytics) (1.12.1)\n",
            "Requirement already satisfied: networkx in /usr/local/lib/python3.10/dist-packages (from torch>=1.8.0->ultralytics) (3.3)\n",
            "Requirement already satisfied: jinja2 in /usr/local/lib/python3.10/dist-packages (from torch>=1.8.0->ultralytics) (3.1.4)\n",
            "Requirement already satisfied: fsspec in /usr/local/lib/python3.10/dist-packages (from torch>=1.8.0->ultralytics) (2023.6.0)\n",
            "Collecting nvidia-cuda-nvrtc-cu12==12.1.105 (from torch>=1.8.0->ultralytics)\n",
            "  Using cached nvidia_cuda_nvrtc_cu12-12.1.105-py3-none-manylinux1_x86_64.whl (23.7 MB)\n",
            "Collecting nvidia-cuda-runtime-cu12==12.1.105 (from torch>=1.8.0->ultralytics)\n",
            "  Using cached nvidia_cuda_runtime_cu12-12.1.105-py3-none-manylinux1_x86_64.whl (823 kB)\n",
            "Collecting nvidia-cuda-cupti-cu12==12.1.105 (from torch>=1.8.0->ultralytics)\n",
            "  Using cached nvidia_cuda_cupti_cu12-12.1.105-py3-none-manylinux1_x86_64.whl (14.1 MB)\n",
            "Collecting nvidia-cudnn-cu12==8.9.2.26 (from torch>=1.8.0->ultralytics)\n",
            "  Using cached nvidia_cudnn_cu12-8.9.2.26-py3-none-manylinux1_x86_64.whl (731.7 MB)\n",
            "Collecting nvidia-cublas-cu12==12.1.3.1 (from torch>=1.8.0->ultralytics)\n",
            "  Using cached nvidia_cublas_cu12-12.1.3.1-py3-none-manylinux1_x86_64.whl (410.6 MB)\n",
            "Collecting nvidia-cufft-cu12==11.0.2.54 (from torch>=1.8.0->ultralytics)\n",
            "  Using cached nvidia_cufft_cu12-11.0.2.54-py3-none-manylinux1_x86_64.whl (121.6 MB)\n",
            "Collecting nvidia-curand-cu12==10.3.2.106 (from torch>=1.8.0->ultralytics)\n",
            "  Using cached nvidia_curand_cu12-10.3.2.106-py3-none-manylinux1_x86_64.whl (56.5 MB)\n",
            "Collecting nvidia-cusolver-cu12==11.4.5.107 (from torch>=1.8.0->ultralytics)\n",
            "  Using cached nvidia_cusolver_cu12-11.4.5.107-py3-none-manylinux1_x86_64.whl (124.2 MB)\n",
            "Collecting nvidia-cusparse-cu12==12.1.0.106 (from torch>=1.8.0->ultralytics)\n",
            "  Using cached nvidia_cusparse_cu12-12.1.0.106-py3-none-manylinux1_x86_64.whl (196.0 MB)\n",
            "Collecting nvidia-nccl-cu12==2.20.5 (from torch>=1.8.0->ultralytics)\n",
            "  Using cached nvidia_nccl_cu12-2.20.5-py3-none-manylinux2014_x86_64.whl (176.2 MB)\n",
            "Collecting nvidia-nvtx-cu12==12.1.105 (from torch>=1.8.0->ultralytics)\n",
            "  Using cached nvidia_nvtx_cu12-12.1.105-py3-none-manylinux1_x86_64.whl (99 kB)\n",
            "Requirement already satisfied: triton==2.3.0 in /usr/local/lib/python3.10/dist-packages (from torch>=1.8.0->ultralytics) (2.3.0)\n",
            "Collecting nvidia-nvjitlink-cu12 (from nvidia-cusolver-cu12==11.4.5.107->torch>=1.8.0->ultralytics)\n",
            "  Downloading nvidia_nvjitlink_cu12-12.5.40-py3-none-manylinux2014_x86_64.whl (21.3 MB)\n",
            "\u001b[2K     \u001b[90m━━━━━━━━━━━━━━━━━━━━━━━━━━━━━━━━━━━━━━━━\u001b[0m \u001b[32m21.3/21.3 MB\u001b[0m \u001b[31m57.3 MB/s\u001b[0m eta \u001b[36m0:00:00\u001b[0m\n",
            "\u001b[?25hRequirement already satisfied: six>=1.5 in /usr/local/lib/python3.10/dist-packages (from python-dateutil>=2.7->matplotlib>=3.3.0->ultralytics) (1.16.0)\n",
            "Requirement already satisfied: MarkupSafe>=2.0 in /usr/local/lib/python3.10/dist-packages (from jinja2->torch>=1.8.0->ultralytics) (2.1.5)\n",
            "Requirement already satisfied: mpmath<1.4.0,>=1.1.0 in /usr/local/lib/python3.10/dist-packages (from sympy->torch>=1.8.0->ultralytics) (1.3.0)\n",
            "Installing collected packages: nvidia-nvtx-cu12, nvidia-nvjitlink-cu12, nvidia-nccl-cu12, nvidia-curand-cu12, nvidia-cufft-cu12, nvidia-cuda-runtime-cu12, nvidia-cuda-nvrtc-cu12, nvidia-cuda-cupti-cu12, nvidia-cublas-cu12, nvidia-cusparse-cu12, nvidia-cudnn-cu12, nvidia-cusolver-cu12, ultralytics-thop, ultralytics\n",
            "Successfully installed nvidia-cublas-cu12-12.1.3.1 nvidia-cuda-cupti-cu12-12.1.105 nvidia-cuda-nvrtc-cu12-12.1.105 nvidia-cuda-runtime-cu12-12.1.105 nvidia-cudnn-cu12-8.9.2.26 nvidia-cufft-cu12-11.0.2.54 nvidia-curand-cu12-10.3.2.106 nvidia-cusolver-cu12-11.4.5.107 nvidia-cusparse-cu12-12.1.0.106 nvidia-nccl-cu12-2.20.5 nvidia-nvjitlink-cu12-12.5.40 nvidia-nvtx-cu12-12.1.105 ultralytics-8.2.31 ultralytics-thop-0.2.8\n"
          ]
        }
      ]
    },
    {
      "cell_type": "code",
      "source": [
        "# define path for best.pt, test dataset, and result save\n",
        "custommodel_path = \"/content/gdrive/My Drive/FYP/DATASETS_V2/version1/300epochs/runs/segment/train/weights/best.pt\"\n",
        "test_dataset_path = Path(\"/content/gdrive/My Drive/FYP/DATASETS_V2/version1/test/images\")\n",
        "results_save_path = Path(\"/content/gdrive/My Drive/FYP/DATASETS_V2/version1/300epochs/predictions\")\n",
        "\n",
        "# create the results directory if it does not exist\n",
        "os.makedirs(results_save_path, exist_ok=True)\n",
        "\n",
        "# get all .jpg files in the test dataset directory\n",
        "image_paths = glob.glob(str(test_dataset_path / \"*.jpg\"))\n"
      ],
      "metadata": {
        "id": "T3XsSqV0argD"
      },
      "execution_count": null,
      "outputs": []
    },
    {
      "cell_type": "code",
      "source": [
        "# load the YOLO model\n",
        "model = YOLO(custommodel_path)"
      ],
      "metadata": {
        "id": "LniXlZ4jardZ"
      },
      "execution_count": null,
      "outputs": []
    },
    {
      "cell_type": "code",
      "source": [
        "# define colors for the classes\n",
        "colors = {\n",
        "    0: [0, 255, 255],   # yellow for overripe\n",
        "    1: [0, 0, 255],     # red for ripe\n",
        "    2: [128, 0, 128]    # purple for underripe\n",
        "}"
      ],
      "metadata": {
        "id": "IyW00OCJara9"
      },
      "execution_count": null,
      "outputs": []
    },
    {
      "cell_type": "code",
      "source": [
        "# iterate over images and process them\n",
        "for image_path in tqdm(image_paths, desc=\"Processing images\"):\n",
        "    # load the image using cv2\n",
        "    image = cv2.imread(image_path)\n",
        "\n",
        "    # check if image already uploaded\n",
        "    if image is None:\n",
        "        print(f\"Failed to load image: {image_path}\")\n",
        "        continue\n",
        "\n",
        "    # perform segmentation using YOLOv8\n",
        "    results = model.predict(image)\n",
        "\n",
        "    # draw the predictions masks on the image\n",
        "    for result in results:\n",
        "        if hasattr(result, 'masks') and result.masks is not None:\n",
        "            for mask, cls in zip(result.masks.data, result.boxes.cls):\n",
        "                mask = mask.cpu().numpy()\n",
        "\n",
        "                # convert the mask to the same size as the image\n",
        "                mask_resized = cv2.resize(mask, (image.shape[1], image.shape[0]))\n",
        "\n",
        "                # insert color on prediction mask to identify classes\n",
        "                color = colors.get(int(cls), [255, 255, 255])  # default to white if class is unknown\n",
        "                image[mask_resized > 0] = color\n",
        "\n",
        "    # extract the filename from the image path\n",
        "    filename = os.path.basename(image_path)\n",
        "    # Set the save path for the result\n",
        "    save_path = results_save_path / filename\n",
        "\n",
        "    # save the result to the specified path\n",
        "    cv2.imwrite(str(save_path), image)\n",
        "    print(f\"Saved result to: {save_path}\")"
      ],
      "metadata": {
        "colab": {
          "base_uri": "https://localhost:8080/"
        },
        "id": "VpnDw23aarYI",
        "outputId": "5fc324fe-3710-4547-b4f8-62f7ba0ecea0"
      },
      "execution_count": null,
      "outputs": [
        {
          "output_type": "stream",
          "name": "stderr",
          "text": [
            "\rProcessing images:   0%|          | 0/39 [00:00<?, ?it/s]"
          ]
        },
        {
          "output_type": "stream",
          "name": "stdout",
          "text": [
            "\n",
            "0: 640x640 1 ripe, 725.6ms\n",
            "Speed: 16.0ms preprocess, 725.6ms inference, 33.6ms postprocess per image at shape (1, 3, 640, 640)\n"
          ]
        },
        {
          "output_type": "stream",
          "name": "stderr",
          "text": [
            "\rProcessing images:   3%|▎         | 1/39 [00:05<03:21,  5.31s/it]"
          ]
        },
        {
          "output_type": "stream",
          "name": "stdout",
          "text": [
            "Saved result to: /content/gdrive/My Drive/FYP/DATASETS_V2/version1/300epochs/predictions/c9b4905b-64_jpg.rf.6c4b665a69c4809d49756018717d311d.jpg\n",
            "\n",
            "0: 640x640 1 overripe, 283.6ms\n",
            "Speed: 5.9ms preprocess, 283.6ms inference, 4.9ms postprocess per image at shape (1, 3, 640, 640)\n"
          ]
        },
        {
          "output_type": "stream",
          "name": "stderr",
          "text": [
            "\rProcessing images:   5%|▌         | 2/39 [00:06<01:37,  2.64s/it]"
          ]
        },
        {
          "output_type": "stream",
          "name": "stdout",
          "text": [
            "Saved result to: /content/gdrive/My Drive/FYP/DATASETS_V2/version1/300epochs/predictions/29daa9e9-46_jpg.rf.488459698b219b14d64e930fff01df73.jpg\n",
            "\n",
            "0: 640x640 1 overripe, 1 ripe, 296.7ms\n",
            "Speed: 3.5ms preprocess, 296.7ms inference, 8.6ms postprocess per image at shape (1, 3, 640, 640)\n"
          ]
        },
        {
          "output_type": "stream",
          "name": "stderr",
          "text": [
            "\rProcessing images:   8%|▊         | 3/39 [00:07<01:15,  2.11s/it]"
          ]
        },
        {
          "output_type": "stream",
          "name": "stdout",
          "text": [
            "Saved result to: /content/gdrive/My Drive/FYP/DATASETS_V2/version1/300epochs/predictions/b54145ff-76_jpg.rf.64a28180120f693fe0e89852c328cc86.jpg\n",
            "\n",
            "0: 640x640 1 ripe, 4 underripes, 288.9ms\n",
            "Speed: 3.7ms preprocess, 288.9ms inference, 25.6ms postprocess per image at shape (1, 3, 640, 640)\n"
          ]
        },
        {
          "output_type": "stream",
          "name": "stderr",
          "text": [
            "\rProcessing images:  10%|█         | 4/39 [00:08<01:02,  1.78s/it]"
          ]
        },
        {
          "output_type": "stream",
          "name": "stdout",
          "text": [
            "Saved result to: /content/gdrive/My Drive/FYP/DATASETS_V2/version1/300epochs/predictions/932ebc91-39_jpg.rf.24183945433499863e3a5c1995010edd.jpg\n",
            "\n",
            "0: 640x640 1 overripe, 1 ripe, 296.6ms\n",
            "Speed: 2.9ms preprocess, 296.6ms inference, 8.5ms postprocess per image at shape (1, 3, 640, 640)\n"
          ]
        },
        {
          "output_type": "stream",
          "name": "stderr",
          "text": [
            "\rProcessing images:  13%|█▎        | 5/39 [00:09<00:51,  1.50s/it]"
          ]
        },
        {
          "output_type": "stream",
          "name": "stdout",
          "text": [
            "Saved result to: /content/gdrive/My Drive/FYP/DATASETS_V2/version1/300epochs/predictions/579a99a4-49_jpg.rf.abf594cd41edb8dabb7d804327de687d.jpg\n",
            "\n",
            "0: 640x640 2 underripes, 285.2ms\n",
            "Speed: 3.7ms preprocess, 285.2ms inference, 8.7ms postprocess per image at shape (1, 3, 640, 640)\n"
          ]
        },
        {
          "output_type": "stream",
          "name": "stderr",
          "text": [
            "\rProcessing images:  15%|█▌        | 6/39 [00:10<00:44,  1.34s/it]"
          ]
        },
        {
          "output_type": "stream",
          "name": "stdout",
          "text": [
            "Saved result to: /content/gdrive/My Drive/FYP/DATASETS_V2/version1/300epochs/predictions/6b2efd5b-44_jpg.rf.c3ca5ebfffd41c80684fceb6e533e35e.jpg\n",
            "\n",
            "0: 640x640 1 ripe, 290.0ms\n",
            "Speed: 4.0ms preprocess, 290.0ms inference, 4.8ms postprocess per image at shape (1, 3, 640, 640)\n"
          ]
        },
        {
          "output_type": "stream",
          "name": "stderr",
          "text": [
            "\rProcessing images:  18%|█▊        | 7/39 [00:12<00:40,  1.28s/it]"
          ]
        },
        {
          "output_type": "stream",
          "name": "stdout",
          "text": [
            "Saved result to: /content/gdrive/My Drive/FYP/DATASETS_V2/version1/300epochs/predictions/49cccf85-74_jpg.rf.2545355d6f5ca8fd3c0c915dc5d785e5.jpg\n",
            "\n",
            "0: 640x640 1 ripe, 279.5ms\n",
            "Speed: 2.9ms preprocess, 279.5ms inference, 4.8ms postprocess per image at shape (1, 3, 640, 640)\n"
          ]
        },
        {
          "output_type": "stream",
          "name": "stderr",
          "text": [
            "\rProcessing images:  21%|██        | 8/39 [00:12<00:36,  1.18s/it]"
          ]
        },
        {
          "output_type": "stream",
          "name": "stdout",
          "text": [
            "Saved result to: /content/gdrive/My Drive/FYP/DATASETS_V2/version1/300epochs/predictions/e3351008-11_jpg.rf.1ad7e3f3a2d4139c4e75d5a6b81593e0.jpg\n",
            "\n",
            "0: 640x640 1 overripe, 283.0ms\n",
            "Speed: 3.5ms preprocess, 283.0ms inference, 4.9ms postprocess per image at shape (1, 3, 640, 640)\n"
          ]
        },
        {
          "output_type": "stream",
          "name": "stderr",
          "text": [
            "\rProcessing images:  23%|██▎       | 9/39 [00:14<00:34,  1.14s/it]"
          ]
        },
        {
          "output_type": "stream",
          "name": "stdout",
          "text": [
            "Saved result to: /content/gdrive/My Drive/FYP/DATASETS_V2/version1/300epochs/predictions/f1a01a94-IMG20160814105302_jpg.rf.b0baf8f8c88bfef721c61f4129b4e821.jpg\n",
            "\n",
            "0: 640x640 1 ripe, 293.5ms\n",
            "Speed: 2.9ms preprocess, 293.5ms inference, 4.9ms postprocess per image at shape (1, 3, 640, 640)\n"
          ]
        },
        {
          "output_type": "stream",
          "name": "stderr",
          "text": [
            "\rProcessing images:  26%|██▌       | 10/39 [00:15<00:32,  1.12s/it]"
          ]
        },
        {
          "output_type": "stream",
          "name": "stdout",
          "text": [
            "Saved result to: /content/gdrive/My Drive/FYP/DATASETS_V2/version1/300epochs/predictions/a247c32b-15_jpg.rf.264d75596b198d285df6ad606b3ebdcc.jpg\n",
            "\n",
            "0: 640x640 2 ripes, 1 underripe, 446.1ms\n",
            "Speed: 3.4ms preprocess, 446.1ms inference, 28.0ms postprocess per image at shape (1, 3, 640, 640)\n"
          ]
        },
        {
          "output_type": "stream",
          "name": "stderr",
          "text": [
            "\rProcessing images:  28%|██▊       | 11/39 [00:16<00:33,  1.19s/it]"
          ]
        },
        {
          "output_type": "stream",
          "name": "stdout",
          "text": [
            "Saved result to: /content/gdrive/My Drive/FYP/DATASETS_V2/version1/300epochs/predictions/eee32a0d-53_jpg.rf.435da979b37e2b62daa42f142cb4ef9d.jpg\n",
            "\n",
            "0: 640x640 1 underripe, 448.1ms\n",
            "Speed: 2.9ms preprocess, 448.1ms inference, 7.6ms postprocess per image at shape (1, 3, 640, 640)\n"
          ]
        },
        {
          "output_type": "stream",
          "name": "stderr",
          "text": [
            "\rProcessing images:  31%|███       | 12/39 [00:18<00:38,  1.42s/it]"
          ]
        },
        {
          "output_type": "stream",
          "name": "stdout",
          "text": [
            "Saved result to: /content/gdrive/My Drive/FYP/DATASETS_V2/version1/300epochs/predictions/8458cd20-67_jpg.rf.731e7d38f88e7158334f98023f5048a8.jpg\n",
            "\n",
            "0: 640x640 1 underripe, 469.4ms\n",
            "Speed: 25.5ms preprocess, 469.4ms inference, 8.0ms postprocess per image at shape (1, 3, 640, 640)\n"
          ]
        },
        {
          "output_type": "stream",
          "name": "stderr",
          "text": [
            "\rProcessing images:  33%|███▎      | 13/39 [00:19<00:34,  1.32s/it]"
          ]
        },
        {
          "output_type": "stream",
          "name": "stdout",
          "text": [
            "Saved result to: /content/gdrive/My Drive/FYP/DATASETS_V2/version1/300epochs/predictions/813bab5b-35_jpg.rf.7c6e0d3127944a3fcfe2f9bad288c16b.jpg\n",
            "\n",
            "0: 640x640 1 overripe, 291.4ms\n",
            "Speed: 5.3ms preprocess, 291.4ms inference, 4.9ms postprocess per image at shape (1, 3, 640, 640)\n"
          ]
        },
        {
          "output_type": "stream",
          "name": "stderr",
          "text": [
            "\rProcessing images:  36%|███▌      | 14/39 [00:20<00:33,  1.35s/it]"
          ]
        },
        {
          "output_type": "stream",
          "name": "stdout",
          "text": [
            "Saved result to: /content/gdrive/My Drive/FYP/DATASETS_V2/version1/300epochs/predictions/4899eee2-overipe_23_jpg.rf.59a2d332b5440623a2ff6669305c23a8.jpg\n",
            "\n",
            "0: 640x640 3 ripes, 1 underripe, 294.4ms\n",
            "Speed: 4.5ms preprocess, 294.4ms inference, 15.9ms postprocess per image at shape (1, 3, 640, 640)\n"
          ]
        },
        {
          "output_type": "stream",
          "name": "stderr",
          "text": [
            "\rProcessing images:  38%|███▊      | 15/39 [00:23<00:38,  1.61s/it]"
          ]
        },
        {
          "output_type": "stream",
          "name": "stdout",
          "text": [
            "Saved result to: /content/gdrive/My Drive/FYP/DATASETS_V2/version1/300epochs/predictions/373ebd74-31_jpg.rf.5c52f2992783ca0ef0bf507644b8780d.jpg\n",
            "\n",
            "0: 640x640 1 underripe, 284.4ms\n",
            "Speed: 3.1ms preprocess, 284.4ms inference, 4.9ms postprocess per image at shape (1, 3, 640, 640)\n"
          ]
        },
        {
          "output_type": "stream",
          "name": "stderr",
          "text": [
            "\rProcessing images:  41%|████      | 16/39 [00:25<00:41,  1.80s/it]"
          ]
        },
        {
          "output_type": "stream",
          "name": "stdout",
          "text": [
            "Saved result to: /content/gdrive/My Drive/FYP/DATASETS_V2/version1/300epochs/predictions/18562405-58_jpg.rf.0ff3c0c5b5af6ff448f640a31f359120.jpg\n",
            "\n",
            "0: 640x640 1 ripe, 306.1ms\n",
            "Speed: 6.5ms preprocess, 306.1ms inference, 5.2ms postprocess per image at shape (1, 3, 640, 640)\n"
          ]
        },
        {
          "output_type": "stream",
          "name": "stderr",
          "text": [
            "\rProcessing images:  44%|████▎     | 17/39 [00:26<00:33,  1.50s/it]"
          ]
        },
        {
          "output_type": "stream",
          "name": "stdout",
          "text": [
            "Saved result to: /content/gdrive/My Drive/FYP/DATASETS_V2/version1/300epochs/predictions/e0f7afef-54_jpg.rf.bf27686efb61c8119f790f424ce6a5b4.jpg\n",
            "\n",
            "0: 640x640 1 ripe, 1 underripe, 299.0ms\n",
            "Speed: 3.0ms preprocess, 299.0ms inference, 8.8ms postprocess per image at shape (1, 3, 640, 640)\n"
          ]
        },
        {
          "output_type": "stream",
          "name": "stderr",
          "text": [
            "\rProcessing images:  46%|████▌     | 18/39 [00:28<00:33,  1.61s/it]"
          ]
        },
        {
          "output_type": "stream",
          "name": "stdout",
          "text": [
            "Saved result to: /content/gdrive/My Drive/FYP/DATASETS_V2/version1/300epochs/predictions/6ef5fb03-81_jpg.rf.194027418ba942b4394a396ea37f5a30.jpg\n",
            "\n",
            "0: 640x640 1 underripe, 300.5ms\n",
            "Speed: 3.2ms preprocess, 300.5ms inference, 4.9ms postprocess per image at shape (1, 3, 640, 640)\n"
          ]
        },
        {
          "output_type": "stream",
          "name": "stderr",
          "text": [
            "\rProcessing images:  49%|████▊     | 19/39 [00:29<00:28,  1.41s/it]"
          ]
        },
        {
          "output_type": "stream",
          "name": "stdout",
          "text": [
            "Saved result to: /content/gdrive/My Drive/FYP/DATASETS_V2/version1/300epochs/predictions/738cb88b-52_jpg.rf.2f26070a5031c81063daf6fbbe0c7cfd.jpg\n",
            "\n",
            "0: 640x640 1 overripe, 438.5ms\n",
            "Speed: 7.1ms preprocess, 438.5ms inference, 7.4ms postprocess per image at shape (1, 3, 640, 640)\n"
          ]
        },
        {
          "output_type": "stream",
          "name": "stderr",
          "text": [
            "\rProcessing images:  51%|█████▏    | 20/39 [00:30<00:27,  1.44s/it]"
          ]
        },
        {
          "output_type": "stream",
          "name": "stdout",
          "text": [
            "Saved result to: /content/gdrive/My Drive/FYP/DATASETS_V2/version1/300epochs/predictions/47f53437-47_jpg.rf.d94a77b956ed7e9af6abc7675c0589e5.jpg\n",
            "\n",
            "0: 640x640 1 overripe, 456.9ms\n",
            "Speed: 2.8ms preprocess, 456.9ms inference, 8.9ms postprocess per image at shape (1, 3, 640, 640)\n"
          ]
        },
        {
          "output_type": "stream",
          "name": "stderr",
          "text": [
            "\rProcessing images:  54%|█████▍    | 21/39 [00:31<00:25,  1.42s/it]"
          ]
        },
        {
          "output_type": "stream",
          "name": "stdout",
          "text": [
            "Saved result to: /content/gdrive/My Drive/FYP/DATASETS_V2/version1/300epochs/predictions/f03c0d5e-IMG20160814105322_jpg.rf.4cda30c09f571be7498559c13d5236d1.jpg\n",
            "\n",
            "0: 640x640 1 overripe, 306.3ms\n",
            "Speed: 2.8ms preprocess, 306.3ms inference, 5.1ms postprocess per image at shape (1, 3, 640, 640)\n"
          ]
        },
        {
          "output_type": "stream",
          "name": "stderr",
          "text": [
            "\rProcessing images:  56%|█████▋    | 22/39 [00:33<00:23,  1.39s/it]"
          ]
        },
        {
          "output_type": "stream",
          "name": "stdout",
          "text": [
            "Saved result to: /content/gdrive/My Drive/FYP/DATASETS_V2/version1/300epochs/predictions/3cf819f4-IMG20180710145457_jpg.rf.5638afcc8bd2d4e0bc99400b4dbad4de.jpg\n",
            "\n",
            "0: 640x640 (no detections), 298.2ms\n",
            "Speed: 4.2ms preprocess, 298.2ms inference, 0.4ms postprocess per image at shape (1, 3, 640, 640)\n"
          ]
        },
        {
          "output_type": "stream",
          "name": "stderr",
          "text": [
            "\rProcessing images:  59%|█████▉    | 23/39 [00:33<00:19,  1.20s/it]"
          ]
        },
        {
          "output_type": "stream",
          "name": "stdout",
          "text": [
            "Saved result to: /content/gdrive/My Drive/FYP/DATASETS_V2/version1/300epochs/predictions/50388f44-45_jpg.rf.f8bbc0e4a5a52e7f46052a4c4403531f.jpg\n",
            "\n",
            "0: 640x640 3 underripes, 304.7ms\n",
            "Speed: 3.0ms preprocess, 304.7ms inference, 19.0ms postprocess per image at shape (1, 3, 640, 640)\n"
          ]
        },
        {
          "output_type": "stream",
          "name": "stderr",
          "text": [
            "\rProcessing images:  62%|██████▏   | 24/39 [00:35<00:20,  1.36s/it]"
          ]
        },
        {
          "output_type": "stream",
          "name": "stdout",
          "text": [
            "Saved result to: /content/gdrive/My Drive/FYP/DATASETS_V2/version1/300epochs/predictions/a459284f-50_jpg.rf.107468279c7ab300c076a5ca80f78fae.jpg\n",
            "\n",
            "0: 640x640 3 ripes, 3 underripes, 275.0ms\n",
            "Speed: 3.6ms preprocess, 275.0ms inference, 27.1ms postprocess per image at shape (1, 3, 640, 640)\n"
          ]
        },
        {
          "output_type": "stream",
          "name": "stderr",
          "text": [
            "\rProcessing images:  64%|██████▍   | 25/39 [00:36<00:18,  1.29s/it]"
          ]
        },
        {
          "output_type": "stream",
          "name": "stdout",
          "text": [
            "Saved result to: /content/gdrive/My Drive/FYP/DATASETS_V2/version1/300epochs/predictions/93cb032e-12_jpg.rf.1347881858125f13fb1729a52aa761b0.jpg\n",
            "\n",
            "0: 640x640 1 ripe, 271.1ms\n",
            "Speed: 3.6ms preprocess, 271.1ms inference, 4.8ms postprocess per image at shape (1, 3, 640, 640)\n"
          ]
        },
        {
          "output_type": "stream",
          "name": "stderr",
          "text": [
            "\rProcessing images:  67%|██████▋   | 26/39 [00:37<00:15,  1.20s/it]"
          ]
        },
        {
          "output_type": "stream",
          "name": "stdout",
          "text": [
            "Saved result to: /content/gdrive/My Drive/FYP/DATASETS_V2/version1/300epochs/predictions/d673eac2-09_jpg.rf.fdcedcb67b0b1a1b270f8632eb95dfc7.jpg\n",
            "\n",
            "0: 640x640 1 ripe, 1 underripe, 272.6ms\n",
            "Speed: 3.8ms preprocess, 272.6ms inference, 8.3ms postprocess per image at shape (1, 3, 640, 640)\n"
          ]
        },
        {
          "output_type": "stream",
          "name": "stderr",
          "text": [
            "\rProcessing images:  69%|██████▉   | 27/39 [00:38<00:13,  1.14s/it]"
          ]
        },
        {
          "output_type": "stream",
          "name": "stdout",
          "text": [
            "Saved result to: /content/gdrive/My Drive/FYP/DATASETS_V2/version1/300epochs/predictions/6f7a46ad-71_jpg.rf.6d8ee577d36f206d395130aa9528538b.jpg\n",
            "\n",
            "0: 640x640 2 underripes, 296.1ms\n",
            "Speed: 2.9ms preprocess, 296.1ms inference, 8.7ms postprocess per image at shape (1, 3, 640, 640)\n"
          ]
        },
        {
          "output_type": "stream",
          "name": "stderr",
          "text": [
            "\rProcessing images:  72%|███████▏  | 28/39 [00:39<00:12,  1.11s/it]"
          ]
        },
        {
          "output_type": "stream",
          "name": "stdout",
          "text": [
            "Saved result to: /content/gdrive/My Drive/FYP/DATASETS_V2/version1/300epochs/predictions/7146c4c9-84_jpg.rf.5f3b696f1d1bf5789eccf2a143fb79f7.jpg\n",
            "\n",
            "0: 640x640 1 ripe, 2 underripes, 304.7ms\n",
            "Speed: 2.9ms preprocess, 304.7ms inference, 21.2ms postprocess per image at shape (1, 3, 640, 640)\n"
          ]
        },
        {
          "output_type": "stream",
          "name": "stderr",
          "text": [
            "\rProcessing images:  74%|███████▍  | 29/39 [00:41<00:12,  1.22s/it]"
          ]
        },
        {
          "output_type": "stream",
          "name": "stdout",
          "text": [
            "Saved result to: /content/gdrive/My Drive/FYP/DATASETS_V2/version1/300epochs/predictions/6df01caa-61_jpg.rf.80169a8601016c8187e743278da8c52a.jpg\n",
            "\n",
            "0: 640x640 1 overripe, 305.4ms\n",
            "Speed: 5.0ms preprocess, 305.4ms inference, 4.7ms postprocess per image at shape (1, 3, 640, 640)\n"
          ]
        },
        {
          "output_type": "stream",
          "name": "stderr",
          "text": [
            "\rProcessing images:  77%|███████▋  | 30/39 [00:42<00:10,  1.17s/it]"
          ]
        },
        {
          "output_type": "stream",
          "name": "stdout",
          "text": [
            "Saved result to: /content/gdrive/My Drive/FYP/DATASETS_V2/version1/300epochs/predictions/03f75c1d-85_jpg.rf.a3804025d9ad973ae53935c9c81d7c87.jpg\n",
            "\n",
            "0: 640x640 1 overripe, 455.8ms\n",
            "Speed: 2.7ms preprocess, 455.8ms inference, 7.6ms postprocess per image at shape (1, 3, 640, 640)\n"
          ]
        },
        {
          "output_type": "stream",
          "name": "stderr",
          "text": [
            "\rProcessing images:  79%|███████▉  | 31/39 [00:43<00:09,  1.15s/it]"
          ]
        },
        {
          "output_type": "stream",
          "name": "stdout",
          "text": [
            "Saved result to: /content/gdrive/My Drive/FYP/DATASETS_V2/version1/300epochs/predictions/d90ef54e-10_jpg.rf.a2c4453c128caa4537d348742b902628.jpg\n",
            "\n",
            "0: 640x640 2 underripes, 509.7ms\n",
            "Speed: 2.9ms preprocess, 509.7ms inference, 13.6ms postprocess per image at shape (1, 3, 640, 640)\n"
          ]
        },
        {
          "output_type": "stream",
          "name": "stderr",
          "text": [
            "\rProcessing images:  82%|████████▏ | 32/39 [00:45<00:10,  1.49s/it]"
          ]
        },
        {
          "output_type": "stream",
          "name": "stdout",
          "text": [
            "Saved result to: /content/gdrive/My Drive/FYP/DATASETS_V2/version1/300epochs/predictions/ec6a7957-08_jpg.rf.db7f132d1ef1e9e0af73df94e463c90a.jpg\n",
            "\n",
            "0: 640x640 1 overripe, 2 ripes, 292.4ms\n",
            "Speed: 3.9ms preprocess, 292.4ms inference, 19.0ms postprocess per image at shape (1, 3, 640, 640)\n"
          ]
        },
        {
          "output_type": "stream",
          "name": "stderr",
          "text": [
            "\rProcessing images:  85%|████████▍ | 33/39 [00:46<00:08,  1.40s/it]"
          ]
        },
        {
          "output_type": "stream",
          "name": "stdout",
          "text": [
            "Saved result to: /content/gdrive/My Drive/FYP/DATASETS_V2/version1/300epochs/predictions/6774195f-29_jpg.rf.606abfc8e6f7891801b5ee4151109963.jpg\n",
            "\n",
            "0: 640x640 1 ripe, 307.8ms\n",
            "Speed: 3.0ms preprocess, 307.8ms inference, 5.2ms postprocess per image at shape (1, 3, 640, 640)\n"
          ]
        },
        {
          "output_type": "stream",
          "name": "stderr",
          "text": [
            "\rProcessing images:  87%|████████▋ | 34/39 [00:48<00:06,  1.31s/it]"
          ]
        },
        {
          "output_type": "stream",
          "name": "stdout",
          "text": [
            "Saved result to: /content/gdrive/My Drive/FYP/DATASETS_V2/version1/300epochs/predictions/d201cc8d-18_jpg.rf.2e922c1a8a809a5f56d16e8040bc56f6.jpg\n",
            "\n",
            "0: 640x640 1 overripe, 315.8ms\n",
            "Speed: 4.9ms preprocess, 315.8ms inference, 5.0ms postprocess per image at shape (1, 3, 640, 640)\n"
          ]
        },
        {
          "output_type": "stream",
          "name": "stderr",
          "text": [
            "\rProcessing images:  90%|████████▉ | 35/39 [00:50<00:06,  1.68s/it]"
          ]
        },
        {
          "output_type": "stream",
          "name": "stdout",
          "text": [
            "Saved result to: /content/gdrive/My Drive/FYP/DATASETS_V2/version1/300epochs/predictions/b49bee6c-86_jpg.rf.0f70fe209aa7ab9a1ab3070253ad3552.jpg\n",
            "\n",
            "0: 640x640 1 overripe, 1 ripe, 283.6ms\n",
            "Speed: 3.4ms preprocess, 283.6ms inference, 11.0ms postprocess per image at shape (1, 3, 640, 640)\n"
          ]
        },
        {
          "output_type": "stream",
          "name": "stderr",
          "text": [
            "\rProcessing images:  92%|█████████▏| 36/39 [00:51<00:04,  1.37s/it]"
          ]
        },
        {
          "output_type": "stream",
          "name": "stdout",
          "text": [
            "Saved result to: /content/gdrive/My Drive/FYP/DATASETS_V2/version1/300epochs/predictions/ebed38be-75_jpg.rf.9d1254fe3fd70dae356d83813b322a70.jpg\n",
            "\n",
            "0: 640x640 1 overripe, 293.1ms\n",
            "Speed: 5.0ms preprocess, 293.1ms inference, 4.9ms postprocess per image at shape (1, 3, 640, 640)\n"
          ]
        },
        {
          "output_type": "stream",
          "name": "stderr",
          "text": [
            "\rProcessing images:  95%|█████████▍| 37/39 [00:52<00:02,  1.28s/it]"
          ]
        },
        {
          "output_type": "stream",
          "name": "stdout",
          "text": [
            "Saved result to: /content/gdrive/My Drive/FYP/DATASETS_V2/version1/300epochs/predictions/f171298e-43_jpg.rf.9d14018e3311da228f205df91138958b.jpg\n",
            "\n",
            "0: 640x640 1 ripe, 287.5ms\n",
            "Speed: 3.8ms preprocess, 287.5ms inference, 4.7ms postprocess per image at shape (1, 3, 640, 640)\n"
          ]
        },
        {
          "output_type": "stream",
          "name": "stderr",
          "text": [
            "\rProcessing images:  97%|█████████▋| 38/39 [00:53<00:01,  1.36s/it]"
          ]
        },
        {
          "output_type": "stream",
          "name": "stdout",
          "text": [
            "Saved result to: /content/gdrive/My Drive/FYP/DATASETS_V2/version1/300epochs/predictions/87159358-25_jpg.rf.ad81aad1dfc22f3b4e4555fd0c591e93.jpg\n",
            "\n",
            "0: 640x640 1 underripe, 296.4ms\n",
            "Speed: 3.4ms preprocess, 296.4ms inference, 5.3ms postprocess per image at shape (1, 3, 640, 640)\n"
          ]
        },
        {
          "output_type": "stream",
          "name": "stderr",
          "text": [
            "Processing images: 100%|██████████| 39/39 [00:54<00:00,  1.40s/it]"
          ]
        },
        {
          "output_type": "stream",
          "name": "stdout",
          "text": [
            "Saved result to: /content/gdrive/My Drive/FYP/DATASETS_V2/version1/300epochs/predictions/e86dfdee-80_jpg.rf.8f969f225657e34a26446c5197eaa54a.jpg\n"
          ]
        },
        {
          "output_type": "stream",
          "name": "stderr",
          "text": [
            "\n"
          ]
        }
      ]
    }
  ]
}